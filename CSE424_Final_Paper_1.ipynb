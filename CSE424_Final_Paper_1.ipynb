{
  "nbformat": 4,
  "nbformat_minor": 0,
  "metadata": {
    "colab": {
      "provenance": [],
      "include_colab_link": true
    },
    "kernelspec": {
      "name": "python3",
      "display_name": "Python 3"
    },
    "language_info": {
      "name": "python"
    }
  },
  "cells": [
    {
      "cell_type": "markdown",
      "metadata": {
        "id": "view-in-github",
        "colab_type": "text"
      },
      "source": [
        "<a href=\"https://colab.research.google.com/github/ZarinSaima333/CSE424_PR/blob/main/CSE424_Final_Paper_1.ipynb\" target=\"_parent\"><img src=\"https://colab.research.google.com/assets/colab-badge.svg\" alt=\"Open In Colab\"/></a>"
      ]
    },
    {
      "cell_type": "code",
      "execution_count": null,
      "metadata": {
        "id": "gqs-Prg__R2n"
      },
      "outputs": [],
      "source": [
        "#Importing Libraries\n",
        "import pandas as pd\n",
        "import numpy as np\n",
        "import matplotlib.pyplot as plt\n",
        "import seaborn as sns\n",
        "\n",
        "#For ignoring warning\n",
        "import warnings\n",
        "warnings.filterwarnings(\"ignore\")"
      ]
    },
    {
      "cell_type": "code",
      "source": [
        "df = pd.read_csv('survey lung cancer.csv')\n",
        "df.head()"
      ],
      "metadata": {
        "id": "izJsS2Xd5afi"
      },
      "execution_count": null,
      "outputs": []
    },
    {
      "cell_type": "code",
      "source": [
        "df.info()"
      ],
      "metadata": {
        "id": "DyLunE1mLb7N"
      },
      "execution_count": null,
      "outputs": []
    },
    {
      "cell_type": "code",
      "source": [
        "df.describe()"
      ],
      "metadata": {
        "id": "5wipyhtgPLJn"
      },
      "execution_count": null,
      "outputs": []
    },
    {
      "cell_type": "code",
      "source": [
        "df.shape"
      ],
      "metadata": {
        "id": "mial_4vUPQz7"
      },
      "execution_count": null,
      "outputs": []
    },
    {
      "cell_type": "code",
      "source": [
        "#Null values\n",
        "df.isnull().sum()"
      ],
      "metadata": {
        "id": "Iyic3Fz3iHxP"
      },
      "execution_count": null,
      "outputs": []
    },
    {
      "cell_type": "code",
      "source": [
        "#duplicate rows\n",
        "df.duplicated().sum()"
      ],
      "metadata": {
        "id": "Sffo7edOh_wD"
      },
      "execution_count": null,
      "outputs": []
    },
    {
      "cell_type": "code",
      "source": [
        "#remove duplicate\n",
        "df.drop_duplicates(inplace=True)"
      ],
      "metadata": {
        "id": "Ii9VYCnmi3J8"
      },
      "execution_count": null,
      "outputs": []
    },
    {
      "cell_type": "code",
      "source": [
        "df.shape"
      ],
      "metadata": {
        "id": "zGN35DyvjO9Z"
      },
      "execution_count": null,
      "outputs": []
    },
    {
      "cell_type": "code",
      "source": [],
      "metadata": {
        "id": "2WG9JMerP6Ow"
      },
      "execution_count": null,
      "outputs": []
    },
    {
      "cell_type": "markdown",
      "source": [
        "#Data Pre-processing"
      ],
      "metadata": {
        "id": "GsQ9A-gsK_Lg"
      }
    },
    {
      "cell_type": "code",
      "source": [
        "#Categorical data to numerical data.\n",
        "# Label encoding (works well with 2 category)\n",
        "# 1 = YES 0 = No\n",
        "#Male=1 & Female=0"
      ],
      "metadata": {
        "id": "_vnRxXvTjQt0"
      },
      "execution_count": null,
      "outputs": []
    },
    {
      "cell_type": "code",
      "source": [
        "from sklearn import preprocessing\n",
        "\n",
        "le=preprocessing.LabelEncoder()\n",
        "\n",
        "df['GENDER']=le.fit_transform(df['GENDER'])\n",
        "df['LUNG_CANCER']=le.fit_transform(df['LUNG_CANCER'])\n",
        "df['SMOKING']=le.fit_transform(df['SMOKING'])\n",
        "df['YELLOW_FINGERS']=le.fit_transform(df['YELLOW_FINGERS'])\n",
        "df['ANXIETY']=le.fit_transform(df['ANXIETY'])\n",
        "df['PEER_PRESSURE']=le.fit_transform(df['PEER_PRESSURE'])\n",
        "df['CHRONIC DISEASE']=le.fit_transform(df['CHRONIC DISEASE'])\n",
        "df['FATIGUE ']=le.fit_transform(df['FATIGUE '])\n",
        "df['ALLERGY ']=le.fit_transform(df['ALLERGY '])\n",
        "df['WHEEZING']=le.fit_transform(df['WHEEZING'])\n",
        "df['ALCOHOL CONSUMING']=le.fit_transform(df['ALCOHOL CONSUMING'])\n",
        "df['COUGHING']=le.fit_transform(df['COUGHING'])\n",
        "df['SHORTNESS OF BREATH']=le.fit_transform(df['SHORTNESS OF BREATH'])\n",
        "df['SWALLOWING DIFFICULTY']=le.fit_transform(df['SWALLOWING DIFFICULTY'])\n",
        "df['CHEST PAIN']=le.fit_transform(df['CHEST PAIN'])\n",
        "df['LUNG_CANCER']=le.fit_transform(df['LUNG_CANCER'])\n"
      ],
      "metadata": {
        "id": "gGAdqSI1mL2m"
      },
      "execution_count": null,
      "outputs": []
    },
    {
      "cell_type": "code",
      "source": [
        "df"
      ],
      "metadata": {
        "id": "pJryzNNHmiO4"
      },
      "execution_count": null,
      "outputs": []
    },
    {
      "cell_type": "code",
      "source": [
        "import pandas as pd\n",
        "\n",
        "# Assuming 'df' is your updated DataFrame\n",
        "df.to_csv('updated_dataset.csv', index=False)"
      ],
      "metadata": {
        "id": "zCGJJGMYxZzw"
      },
      "execution_count": null,
      "outputs": []
    },
    {
      "cell_type": "code",
      "source": [
        "#plot histogram of age\n",
        "df['AGE'].hist()"
      ],
      "metadata": {
        "id": "6-m-hnah5my1"
      },
      "execution_count": null,
      "outputs": []
    },
    {
      "cell_type": "code",
      "source": [
        "from sklearn.preprocessing import MinMaxScaler\n",
        "scaler = MinMaxScaler()\n",
        "df['AGE'] = scaler.fit_transform(df[['AGE']])"
      ],
      "metadata": {
        "id": "LrBhR950nexK"
      },
      "execution_count": null,
      "outputs": []
    },
    {
      "cell_type": "code",
      "source": [
        "df"
      ],
      "metadata": {
        "id": "2v5zWO-qoIbS"
      },
      "execution_count": null,
      "outputs": []
    },
    {
      "cell_type": "markdown",
      "source": [
        "##Feature Engineering"
      ],
      "metadata": {
        "id": "2OwEwSCqw3tD"
      }
    },
    {
      "cell_type": "code",
      "source": [
        "# correlation\n",
        "corr = df.corr()\n",
        "corr"
      ],
      "metadata": {
        "id": "HOR8sOa5oJ2s"
      },
      "execution_count": null,
      "outputs": []
    },
    {
      "cell_type": "code",
      "source": [
        "plt.figure(figsize=(16, 16))\n",
        "# Store heatmap object in a variable to easily access it when you want to include more features (such as title).\n",
        "# Set the range of values to be displayed on the colormap from -1 to 1, and set the annotation to True to display the correlation values on the heatmap.\n",
        "heatmap = sns.heatmap(df.corr(), vmin=-1, vmax=1, annot=True)\n",
        "# Give a title to the heatmap. Pad defines the distance of the title from the top of the heatmap.\n",
        "heatmap.set_title('Correlation Heatmap', fontdict={'fontsize':5}, pad=12);"
      ],
      "metadata": {
        "id": "v0Hnk47to_hu"
      },
      "execution_count": null,
      "outputs": []
    },
    {
      "cell_type": "code",
      "source": [
        "idf= corr[corr>=.40]\n",
        "plt.figure(figsize=(12,8))\n",
        "sns.heatmap(idf, cmap=\"Reds\")"
      ],
      "metadata": {
        "id": "AAz_gsB6syvr"
      },
      "execution_count": null,
      "outputs": []
    },
    {
      "cell_type": "code",
      "source": [
        "#Same effect\n",
        "df['AN_FIN']=df['ANXIETY']*df['YELLOW_FINGERS']"
      ],
      "metadata": {
        "id": "Us7yR6kpvyVg"
      },
      "execution_count": null,
      "outputs": []
    },
    {
      "cell_type": "code",
      "source": [
        "df"
      ],
      "metadata": {
        "id": "N_wV8mD5wypY"
      },
      "execution_count": null,
      "outputs": []
    },
    {
      "cell_type": "code",
      "source": [
        "import pandas as pd\n",
        "\n",
        "# Assuming df is your DataFrame\n",
        "variance = df.var()\n",
        "\n",
        "# Display variance of each column\n",
        "print(variance)\n",
        "\n",
        "# Optionally, filter columns with variance below a certain threshold\n",
        "low_variance_columns = variance[variance < 0.1]  # Columns with variance < 0.1\n",
        "print(\"Columns with low variance:\\n\", low_variance_columns)\n"
      ],
      "metadata": {
        "id": "esyeWkaew_Rl"
      },
      "execution_count": null,
      "outputs": []
    },
    {
      "cell_type": "code",
      "source": [
        "df.drop('AGE', axis=1, inplace=True)\n"
      ],
      "metadata": {
        "id": "FM-EKue9J7SI"
      },
      "execution_count": null,
      "outputs": []
    },
    {
      "cell_type": "code",
      "source": [
        "df"
      ],
      "metadata": {
        "id": "4A0huhWKKIkr"
      },
      "execution_count": null,
      "outputs": []
    },
    {
      "cell_type": "code",
      "source": [
        "#splitting the data for x and y\n",
        "\n",
        "X= df.drop('LUNG_CANCER', axis=1)\n",
        "y= df['LUNG_CANCER']"
      ],
      "metadata": {
        "id": "X2IlzzB_KJwX"
      },
      "execution_count": null,
      "outputs": []
    },
    {
      "cell_type": "code",
      "source": [
        "#distributaion of Target variable.\n",
        "sns.countplot(x='LUNG_CANCER', data=df,)\n",
        "plt.title('Target Distribution');"
      ],
      "metadata": {
        "id": "bAyCVHt8eF9x"
      },
      "execution_count": null,
      "outputs": []
    },
    {
      "cell_type": "code",
      "source": [
        "from imblearn.over_sampling import ADASYN\n",
        "adasyn = ADASYN(random_state=42)\n",
        "X, y = adasyn.fit_resample(X, y)"
      ],
      "metadata": {
        "id": "_B4qx4hwiDcB"
      },
      "execution_count": null,
      "outputs": []
    },
    {
      "cell_type": "code",
      "source": [
        "len(X)"
      ],
      "metadata": {
        "id": "1Dl-4iHEiH2C"
      },
      "execution_count": null,
      "outputs": []
    },
    {
      "cell_type": "code",
      "source": [
        "#split the train test data\n",
        "from sklearn.model_selection import train_test_split\n",
        "X_train, X_test, y_train, y_test= train_test_split(X, y, test_size= 0.25, random_state=0)"
      ],
      "metadata": {
        "id": "lHQ0xOlxNhPf"
      },
      "execution_count": null,
      "outputs": []
    },
    {
      "cell_type": "markdown",
      "source": [
        "## Logistic Regression"
      ],
      "metadata": {
        "id": "t-4aoU_ajNyO"
      }
    },
    {
      "cell_type": "code",
      "source": [
        "#Fitting training data to the model\n",
        "from sklearn.linear_model import LogisticRegression\n",
        "lr_model=LogisticRegression(random_state=0)\n",
        "lr_model.fit(X_train, y_train)"
      ],
      "metadata": {
        "id": "WZTYUqh6iPt7"
      },
      "execution_count": null,
      "outputs": []
    },
    {
      "cell_type": "code",
      "source": [
        "#Predicting result using testing data\n",
        "y_lr_pred= lr_model.predict(X_test)\n",
        "y_lr_pred"
      ],
      "metadata": {
        "id": "JvQWQb5Ci7Q4"
      },
      "execution_count": null,
      "outputs": []
    },
    {
      "cell_type": "code",
      "source": [
        "#Model accuracy\n",
        "from sklearn.metrics import classification_report, accuracy_score, f1_score,confusion_matrix, roc_auc_score\n",
        "lr_cr=classification_report(y_test, y_lr_pred)\n",
        "print(lr_cr)"
      ],
      "metadata": {
        "id": "SV_egun5i-3d"
      },
      "execution_count": null,
      "outputs": []
    },
    {
      "cell_type": "code",
      "source": [
        "# Confusion Matrix\n",
        "lr_conf_matrix = confusion_matrix(y_test, y_lr_pred)\n",
        "print(\"Confusion Matrix:\\n\", lr_conf_matrix)"
      ],
      "metadata": {
        "id": "Y3lb45royFN8"
      },
      "execution_count": null,
      "outputs": []
    },
    {
      "cell_type": "code",
      "source": [
        "y_lr_prob = lr_model.predict_proba(X_test)[:, 1]\n",
        "auc_score = roc_auc_score(y_test, y_lr_prob)\n",
        "print(\"AUC Score:\", auc_score)"
      ],
      "metadata": {
        "id": "1r3TDNQQ0imh"
      },
      "execution_count": null,
      "outputs": []
    },
    {
      "cell_type": "code",
      "source": [
        "# Calculating accuracy for the training set\n",
        "train_accuracy = lr_model.score(X_train, y_train)\n",
        "print(\"Training Set Accuracy:\", train_accuracy)\n",
        "\n",
        "# Calculating accuracy for the test set\n",
        "test_accuracy = accuracy_score(y_test, y_lr_pred)\n",
        "print(\"Test Set Accuracy:\", test_accuracy)"
      ],
      "metadata": {
        "id": "QDRq0K4ZEq8Z"
      },
      "execution_count": null,
      "outputs": []
    },
    {
      "cell_type": "markdown",
      "source": [
        "#Decision Tree"
      ],
      "metadata": {
        "id": "0uoBVr3ijYxI"
      }
    },
    {
      "cell_type": "code",
      "source": [
        "#Fitting training data to the model\n",
        "from sklearn.tree import DecisionTreeClassifier\n",
        "dt_model= DecisionTreeClassifier(criterion='entropy', random_state=0)\n",
        "dt_model.fit(X_train, y_train)"
      ],
      "metadata": {
        "id": "t22GyP9kjBn3"
      },
      "execution_count": null,
      "outputs": []
    },
    {
      "cell_type": "code",
      "source": [
        "#Predicting result using testing data\n",
        "y_dt_pred= dt_model.predict(X_test)\n",
        "y_dt_pred"
      ],
      "metadata": {
        "id": "T3lDaDryjkvX"
      },
      "execution_count": null,
      "outputs": []
    },
    {
      "cell_type": "code",
      "source": [
        "#Model accuracy\n",
        "dt_cr=classification_report(y_test, y_dt_pred)\n",
        "print(dt_cr)"
      ],
      "metadata": {
        "id": "f55rBfP-jnE0"
      },
      "execution_count": null,
      "outputs": []
    },
    {
      "cell_type": "code",
      "source": [
        "# Confusion Matrix\n",
        "dt_conf_matrix = confusion_matrix(y_test, y_dt_pred)\n",
        "print(\"Confusion Matrix:\\n\", dt_conf_matrix)\n",
        "\n"
      ],
      "metadata": {
        "id": "KlTEUVjeyKRm"
      },
      "execution_count": null,
      "outputs": []
    },
    {
      "cell_type": "code",
      "source": [
        "y_dt_prob = dt_model.predict_proba(X_test)[:, 1]\n",
        "auc_score = roc_auc_score(y_test, y_dt_prob)\n",
        "print(\"AUC Score:\", auc_score)"
      ],
      "metadata": {
        "id": "sc7VJXfy05qO"
      },
      "execution_count": null,
      "outputs": []
    },
    {
      "cell_type": "code",
      "source": [
        "# Calculating accuracy for the training set\n",
        "train_accuracy = dt_model.score(X_train, y_train)\n",
        "print(\"Training Set Accuracy:\", train_accuracy)\n",
        "\n",
        "# Calculating accuracy for the test set\n",
        "test_accuracy = accuracy_score(y_test, y_dt_pred)\n",
        "print(\"Test Set Accuracy:\", test_accuracy)"
      ],
      "metadata": {
        "id": "xRVHqq3oFbUk"
      },
      "execution_count": null,
      "outputs": []
    },
    {
      "cell_type": "markdown",
      "source": [
        "##Gaussian Naive Bayes"
      ],
      "metadata": {
        "id": "43uAIvgnme3u"
      }
    },
    {
      "cell_type": "code",
      "source": [
        "from sklearn.naive_bayes import GaussianNB\n",
        "gnb_model = GaussianNB()\n",
        "gnb_model.fit(X_train, y_train)"
      ],
      "metadata": {
        "id": "XZSgBPnfmeBD"
      },
      "execution_count": null,
      "outputs": []
    },
    {
      "cell_type": "code",
      "source": [
        "#Predicting result using testing data\n",
        "y_gnb_pred= gnb_model.predict(X_test)\n",
        "y_gnb_pred"
      ],
      "metadata": {
        "id": "TSf9ayQemvPH"
      },
      "execution_count": null,
      "outputs": []
    },
    {
      "cell_type": "code",
      "source": [
        "#Model accuracy\n",
        "gnb_cr=classification_report(y_test, y_gnb_pred)\n",
        "print(gnb_cr)"
      ],
      "metadata": {
        "id": "2Qs_6JvMmx-G"
      },
      "execution_count": null,
      "outputs": []
    },
    {
      "cell_type": "code",
      "source": [
        "# Confusion Matrix\n",
        "gnb_conf_matrix = confusion_matrix(y_test, y_gnb_pred)\n",
        "print(\"Confusion Matrix:\\n\", gnb_conf_matrix)\n",
        "\n"
      ],
      "metadata": {
        "id": "plcXkAMuYf7V"
      },
      "execution_count": null,
      "outputs": []
    },
    {
      "cell_type": "code",
      "source": [
        "y_gnb_prob = gnb_model.predict_proba(X_test)[:, 1]\n",
        "auc_score = roc_auc_score(y_test, y_gnb_prob)\n",
        "print(\"AUC Score:\", auc_score)"
      ],
      "metadata": {
        "id": "--rOJMB0070R"
      },
      "execution_count": null,
      "outputs": []
    },
    {
      "cell_type": "code",
      "source": [
        "# Calculating accuracy for the training set\n",
        "train_accuracy = gnb_model.score(X_train, y_train)\n",
        "print(\"Training Set Accuracy:\", train_accuracy)\n",
        "\n",
        "# Calculating accuracy for the test set\n",
        "test_accuracy = accuracy_score(y_test, y_gnb_pred)\n",
        "print(\"Test Set Accuracy:\", test_accuracy)"
      ],
      "metadata": {
        "id": "3ft5Wz45FlNK"
      },
      "execution_count": null,
      "outputs": []
    },
    {
      "cell_type": "markdown",
      "source": [
        "## Multinomial Naive Bayes"
      ],
      "metadata": {
        "id": "zOsUTWBvm39v"
      }
    },
    {
      "cell_type": "code",
      "source": [
        "#Fitting Multinomial Naive Bayes classifier to the training set\n",
        "from sklearn.naive_bayes import MultinomialNB\n",
        "mnb_model = MultinomialNB()\n",
        "mnb_model.fit(X_train, y_train)"
      ],
      "metadata": {
        "id": "oGedsI5lm0gn"
      },
      "execution_count": null,
      "outputs": []
    },
    {
      "cell_type": "code",
      "source": [
        "#Predicting result using testing data\n",
        "y_mnb_pred= mnb_model.predict(X_test)\n",
        "y_mnb_pred"
      ],
      "metadata": {
        "id": "czW9CafknJxl"
      },
      "execution_count": null,
      "outputs": []
    },
    {
      "cell_type": "code",
      "source": [
        "#Model accuracy\n",
        "mnb_cr=classification_report(y_test, y_mnb_pred)\n",
        "print(mnb_cr)\n"
      ],
      "metadata": {
        "id": "ZJVM5iHRoD-0"
      },
      "execution_count": null,
      "outputs": []
    },
    {
      "cell_type": "code",
      "source": [
        "# Confusion Matrix\n",
        "mnb_conf_matrix = confusion_matrix(y_test, y_mnb_pred)\n",
        "print(\"Confusion Matrix:\\n\", mnb_conf_matrix)\n",
        "\n"
      ],
      "metadata": {
        "id": "OI41GADVxgQt"
      },
      "execution_count": null,
      "outputs": []
    },
    {
      "cell_type": "code",
      "source": [
        "y_mnb_prob = mnb_model.predict_proba(X_test)[:, 1]\n",
        "auc_score = roc_auc_score(y_test, y_mnb_prob)\n",
        "print(\"AUC Score:\", auc_score)"
      ],
      "metadata": {
        "id": "PNcP3yUG1CeD"
      },
      "execution_count": null,
      "outputs": []
    },
    {
      "cell_type": "code",
      "source": [
        "# Calculating accuracy for the training set\n",
        "train_accuracy = mnb_model.score(X_train, y_train)\n",
        "print(\"Training Set Accuracy:\", train_accuracy)\n",
        "\n",
        "# Calculating accuracy for the test set\n",
        "test_accuracy = accuracy_score(y_test, y_mnb_pred)\n",
        "print(\"Test Set Accuracy:\", test_accuracy)"
      ],
      "metadata": {
        "id": "E-jGgjtjFqPC"
      },
      "execution_count": null,
      "outputs": []
    },
    {
      "cell_type": "markdown",
      "source": [
        "##Support Vector Classifier"
      ],
      "metadata": {
        "id": "OMmOgak5oUwS"
      }
    },
    {
      "cell_type": "code",
      "source": [
        "#Fitting SVC to the training set\n",
        "from sklearn.svm import SVC\n",
        "svc_model = SVC()\n",
        "svc_model.fit(X_train, y_train)"
      ],
      "metadata": {
        "id": "MmCar0CQoYl4"
      },
      "execution_count": null,
      "outputs": []
    },
    {
      "cell_type": "code",
      "source": [
        "#Predicting result using testing data\n",
        "y_svc_pred= svc_model.predict(X_test)\n",
        "y_svc_pred\n"
      ],
      "metadata": {
        "id": "NK7v_U5ToqKi"
      },
      "execution_count": null,
      "outputs": []
    },
    {
      "cell_type": "code",
      "source": [
        "#Model accuracy\n",
        "svc_cr=classification_report(y_test, y_svc_pred)\n",
        "print(svc_cr)"
      ],
      "metadata": {
        "id": "EZtJvIDMou2S"
      },
      "execution_count": null,
      "outputs": []
    },
    {
      "cell_type": "code",
      "source": [
        "# Confusion Matrix\n",
        "svc_conf_matrix = confusion_matrix(y_test, y_svc_pred)\n",
        "print(\"Confusion Matrix:\\n\", svc_conf_matrix)\n",
        "\n"
      ],
      "metadata": {
        "id": "0WmcUB4Qy41h"
      },
      "execution_count": null,
      "outputs": []
    },
    {
      "cell_type": "code",
      "source": [
        "# Calculating accuracy for the training set\n",
        "train_accuracy = svc_model.score(X_train, y_train)\n",
        "print(\"Training Set Accuracy:\", train_accuracy)\n",
        "\n",
        "# Calculating accuracy for the test set\n",
        "test_accuracy = accuracy_score(y_test, y_svc_pred)\n",
        "print(\"Test Set Accuracy:\", test_accuracy)"
      ],
      "metadata": {
        "id": "kWpx6ztS1Fwf"
      },
      "execution_count": null,
      "outputs": []
    },
    {
      "cell_type": "markdown",
      "source": [
        "##Random Forest"
      ],
      "metadata": {
        "id": "d9tQRVsXpbsp"
      }
    },
    {
      "cell_type": "code",
      "source": [
        "from sklearn.ensemble import RandomForestClassifier\n",
        "rf_model = RandomForestClassifier()\n",
        "rf_model.fit(X_train, y_train)"
      ],
      "metadata": {
        "id": "UGpSihFNpdYN"
      },
      "execution_count": null,
      "outputs": []
    },
    {
      "cell_type": "code",
      "source": [
        "#Predicting result using testing data\n",
        "y_rf_pred= rf_model.predict(X_test)\n",
        "y_rf_pred\n"
      ],
      "metadata": {
        "id": "mDNHhO1xpiEr"
      },
      "execution_count": null,
      "outputs": []
    },
    {
      "cell_type": "code",
      "source": [
        "#Model accuracy\n",
        "rf_cr=classification_report(y_test, y_rf_pred)\n",
        "print(rf_cr)"
      ],
      "metadata": {
        "id": "BfuwjI9hplz4"
      },
      "execution_count": null,
      "outputs": []
    },
    {
      "cell_type": "code",
      "source": [
        "# Confusion Matrix\n",
        "rf_conf_matrix = confusion_matrix(y_test, y_rf_pred)\n",
        "print(\"Confusion Matrix:\\n\", rf_conf_matrix)\n",
        "\n"
      ],
      "metadata": {
        "id": "hmSFFErWy98F"
      },
      "execution_count": null,
      "outputs": []
    },
    {
      "cell_type": "code",
      "source": [
        "y_rf_prob = rf_model.predict_proba(X_test)[:, 1]\n",
        "auc_score = roc_auc_score(y_test, y_rf_prob)\n",
        "print(\"AUC Score:\", auc_score)"
      ],
      "metadata": {
        "id": "N5T936qb2FXv"
      },
      "execution_count": null,
      "outputs": []
    },
    {
      "cell_type": "code",
      "source": [
        "# Calculating accuracy for the training set\n",
        "train_accuracy = rf_model.score(X_train, y_train)\n",
        "print(\"Training Set Accuracy:\", train_accuracy)\n",
        "\n",
        "# Calculating accuracy for the test set\n",
        "test_accuracy = accuracy_score(y_test, y_rf_pred)\n",
        "print(\"Test Set Accuracy:\", test_accuracy)"
      ],
      "metadata": {
        "id": "b6HFtIW9Fy-F"
      },
      "execution_count": null,
      "outputs": []
    },
    {
      "cell_type": "markdown",
      "source": [
        "##Gradient Boosting"
      ],
      "metadata": {
        "id": "MJM-0Ad0uibt"
      }
    },
    {
      "cell_type": "code",
      "source": [
        "#Training\n",
        "from sklearn.ensemble import GradientBoostingClassifier\n",
        "gb_model = GradientBoostingClassifier()\n",
        "gb_model.fit(X_train, y_train)"
      ],
      "metadata": {
        "id": "zm3tdfgnuhqB"
      },
      "execution_count": null,
      "outputs": []
    },
    {
      "cell_type": "code",
      "source": [
        "#Predicting result using testing data\n",
        "y_gb_pred= gb_model.predict(X_test)\n",
        "y_gb_pred\n"
      ],
      "metadata": {
        "colab": {
          "base_uri": "https://localhost:8080/",
          "height": 176
        },
        "id": "GBoJyHbLuqAC",
        "outputId": "ef034dbb-de5c-486c-bd16-d9b527ba5975"
      },
      "execution_count": null,
      "outputs": [
        {
          "output_type": "error",
          "ename": "NameError",
          "evalue": "name 'gb_model' is not defined",
          "traceback": [
            "\u001b[0;31m---------------------------------------------------------------------------\u001b[0m",
            "\u001b[0;31mNameError\u001b[0m                                 Traceback (most recent call last)",
            "\u001b[0;32m<ipython-input-6-470447ac7d05>\u001b[0m in \u001b[0;36m<cell line: 2>\u001b[0;34m()\u001b[0m\n\u001b[1;32m      1\u001b[0m \u001b[0;31m#Predicting result using testing data\u001b[0m\u001b[0;34m\u001b[0m\u001b[0;34m\u001b[0m\u001b[0m\n\u001b[0;32m----> 2\u001b[0;31m \u001b[0my_gb_pred\u001b[0m\u001b[0;34m=\u001b[0m \u001b[0mgb_model\u001b[0m\u001b[0;34m.\u001b[0m\u001b[0mpredict\u001b[0m\u001b[0;34m(\u001b[0m\u001b[0mX_test\u001b[0m\u001b[0;34m)\u001b[0m\u001b[0;34m\u001b[0m\u001b[0;34m\u001b[0m\u001b[0m\n\u001b[0m\u001b[1;32m      3\u001b[0m \u001b[0my_gb_pred\u001b[0m\u001b[0;34m\u001b[0m\u001b[0;34m\u001b[0m\u001b[0m\n",
            "\u001b[0;31mNameError\u001b[0m: name 'gb_model' is not defined"
          ]
        }
      ]
    },
    {
      "cell_type": "code",
      "source": [
        "#Model accuracy\n",
        "gb_cr=classification_report(y_test, y_gb_pred)\n",
        "print(gb_cr)"
      ],
      "metadata": {
        "id": "rPs9Fzkduuuf"
      },
      "execution_count": null,
      "outputs": []
    },
    {
      "cell_type": "code",
      "source": [
        "# Confusion Matrix\n",
        "gb_conf_matrix = confusion_matrix(y_test, y_gb_pred)\n",
        "print(\"Confusion Matrix:\\n\", gb_conf_matrix)\n",
        "\n"
      ],
      "metadata": {
        "id": "-tQgvBbJzETY"
      },
      "execution_count": null,
      "outputs": []
    },
    {
      "cell_type": "code",
      "source": [
        "y_gb_prob = gb_model.predict_proba(X_test)[:, 1]\n",
        "auc_score = roc_auc_score(y_test, y_gb_prob)\n",
        "print(\"AUC Score:\", auc_score)"
      ],
      "metadata": {
        "id": "V85z3aQ62Rc7"
      },
      "execution_count": null,
      "outputs": []
    },
    {
      "cell_type": "code",
      "source": [
        "# Calculating accuracy for the training set\n",
        "train_accuracy = gb_model.score(X_train, y_train)\n",
        "print(\"Training Set Accuracy:\", train_accuracy)\n",
        "\n",
        "# Calculating accuracy for the test set\n",
        "test_accuracy = accuracy_score(y_test, y_gb_pred)\n",
        "print(\"Test Set Accuracy:\", test_accuracy)"
      ],
      "metadata": {
        "id": "SITkiBsFF7Cf"
      },
      "execution_count": null,
      "outputs": []
    },
    {
      "cell_type": "markdown",
      "source": [
        "##XGBoost"
      ],
      "metadata": {
        "id": "iHTn2vaBpx3T"
      }
    },
    {
      "cell_type": "code",
      "source": [
        "from xgboost import XGBClassifier\n",
        "xgb_model = XGBClassifier()\n",
        "xgb_model.fit(X_train, y_train)"
      ],
      "metadata": {
        "id": "3MT2lefhpvM1"
      },
      "execution_count": null,
      "outputs": []
    },
    {
      "cell_type": "code",
      "source": [
        "#Predicting result using testing data\n",
        "y_xgb_pred= xgb_model.predict(X_test)\n",
        "y_xgb_pred"
      ],
      "metadata": {
        "id": "HyoDMvCGqIoH"
      },
      "execution_count": null,
      "outputs": []
    },
    {
      "cell_type": "code",
      "source": [
        "#Model accuracy\n",
        "xgb_cr=classification_report(y_test, y_xgb_pred)\n",
        "print(xgb_cr)"
      ],
      "metadata": {
        "id": "HuWCl_6Ep4pQ"
      },
      "execution_count": null,
      "outputs": []
    },
    {
      "cell_type": "code",
      "source": [
        "# Confusion Matrix\n",
        "xgb_conf_matrix = confusion_matrix(y_test, y_xgb_pred)\n",
        "print(\"Confusion Matrix:\\n\", xgb_conf_matrix)\n",
        "\n"
      ],
      "metadata": {
        "id": "x5knK_1nzKb0"
      },
      "execution_count": null,
      "outputs": []
    },
    {
      "cell_type": "code",
      "source": [
        "y_xgb_prob = xgb_model.predict_proba(X_test)[:, 1]\n",
        "auc_score = roc_auc_score(y_test, y_xgb_prob)\n",
        "print(\"AUC Score:\", auc_score)"
      ],
      "metadata": {
        "id": "CkzMkvhu2Vhn"
      },
      "execution_count": null,
      "outputs": []
    },
    {
      "cell_type": "code",
      "source": [
        "# Calculating accuracy for the training set\n",
        "train_accuracy = xgb_model.score(X_train, y_train)\n",
        "print(\"Training Set Accuracy:\", train_accuracy)\n",
        "\n",
        "# Calculating accuracy for the test set\n",
        "test_accuracy = accuracy_score(y_test, y_xgb_pred)\n",
        "print(\"Test Set Accuracy:\", test_accuracy)"
      ],
      "metadata": {
        "id": "UyUhaX_cGBak"
      },
      "execution_count": null,
      "outputs": []
    },
    {
      "cell_type": "markdown",
      "source": [
        "##MLP - Multi-layer Perceptron classifier"
      ],
      "metadata": {
        "id": "9ZN3iGgXsa1a"
      }
    },
    {
      "cell_type": "code",
      "source": [
        "#Training a neural network model\n",
        "from sklearn.neural_network import MLPClassifier\n",
        "mlp_model = MLPClassifier()\n",
        "mlp_model.fit(X_train, y_train)"
      ],
      "metadata": {
        "id": "LPkkm5apqFKl"
      },
      "execution_count": null,
      "outputs": []
    },
    {
      "cell_type": "code",
      "source": [
        "#Predicting result using testing data\n",
        "y_mlp_pred= mlp_model.predict(X_test)\n",
        "y_mlp_pred"
      ],
      "metadata": {
        "id": "fWpmrCEZtr_U"
      },
      "execution_count": null,
      "outputs": []
    },
    {
      "cell_type": "code",
      "source": [
        "#Model accuracy\n",
        "mlp_cr=classification_report(y_test, y_mlp_pred)\n",
        "print(mlp_cr)"
      ],
      "metadata": {
        "id": "TNWbj3ASuCPG"
      },
      "execution_count": null,
      "outputs": []
    },
    {
      "cell_type": "code",
      "source": [
        "# Confusion Matrix\n",
        "mlp_conf_matrix = confusion_matrix(y_test, y_mlp_pred)\n",
        "print(\"Confusion Matrix:\\n\", mlp_conf_matrix)\n",
        "\n"
      ],
      "metadata": {
        "id": "ESMk64CMzQv9"
      },
      "execution_count": null,
      "outputs": []
    },
    {
      "cell_type": "code",
      "source": [
        "y_mlp_prob = mlp_model.predict_proba(X_test)[:, 1]\n",
        "auc_score = roc_auc_score(y_test, y_mlp_prob)\n",
        "print(\"AUC Score:\", auc_score)"
      ],
      "metadata": {
        "id": "XD3Q-gqP2aFR"
      },
      "execution_count": null,
      "outputs": []
    },
    {
      "cell_type": "code",
      "source": [
        "# Calculating accuracy for the training set\n",
        "train_accuracy = mlp_model.score(X_train, y_train)\n",
        "print(\"Training Set Accuracy:\", train_accuracy)\n",
        "\n",
        "# Calculating accuracy for the test set\n",
        "test_accuracy = accuracy_score(y_test, y_mlp_pred)\n",
        "print(\"Test Set Accuracy:\", test_accuracy)"
      ],
      "metadata": {
        "id": "TKVPS1GXGF89"
      },
      "execution_count": null,
      "outputs": []
    },
    {
      "cell_type": "markdown",
      "source": [
        "##KNN"
      ],
      "metadata": {
        "id": "yCWwvayEwezG"
      }
    },
    {
      "cell_type": "code",
      "source": [
        "#Fitting K-NN classifier to the training set\n",
        "from sklearn.neighbors import KNeighborsClassifier\n",
        "knn_model= KNeighborsClassifier(n_neighbors=5, metric='minkowski', p=2 )\n",
        "knn_model.fit(X_train, y_train)\n"
      ],
      "metadata": {
        "id": "sVvCPgoIuCuE"
      },
      "execution_count": null,
      "outputs": []
    },
    {
      "cell_type": "code",
      "source": [
        "#Predicting result using testing data\n",
        "y_knn_pred= knn_model.predict(X_test)\n",
        "y_knn_pred"
      ],
      "metadata": {
        "id": "WWgjj_W5wkCV"
      },
      "execution_count": null,
      "outputs": []
    },
    {
      "cell_type": "code",
      "source": [
        "#Model accuracy\n",
        "knn_cr=classification_report(y_test, y_knn_pred)\n",
        "print(knn_cr)"
      ],
      "metadata": {
        "id": "V1Ngf1p_wmNh"
      },
      "execution_count": null,
      "outputs": []
    },
    {
      "cell_type": "code",
      "source": [
        "# Confusion Matrix\n",
        "knn_conf_matrix = confusion_matrix(y_test, y_knn_pred)\n",
        "print(\"Confusion Matrix:\\n\", knn_conf_matrix)\n",
        "\n"
      ],
      "metadata": {
        "id": "eu6smduzzWsc"
      },
      "execution_count": null,
      "outputs": []
    },
    {
      "cell_type": "code",
      "source": [
        "y_knn_prob = knn_model.predict_proba(X_test)[:, 1]\n",
        "auc_score = roc_auc_score(y_test, y_knn_prob)\n",
        "print(\"AUC Score:\", auc_score)"
      ],
      "metadata": {
        "id": "TvZ2pBl62d9x"
      },
      "execution_count": null,
      "outputs": []
    },
    {
      "cell_type": "code",
      "source": [
        "# Calculating accuracy for the training set\n",
        "train_accuracy = knn_model.score(X_train, y_train)\n",
        "print(\"Training Set Accuracy:\", train_accuracy)\n",
        "\n",
        "# Calculating accuracy for the test set\n",
        "test_accuracy = accuracy_score(y_test, y_knn_pred)\n",
        "print(\"Test Set Accuracy:\", test_accuracy)"
      ],
      "metadata": {
        "id": "mKOeYkMmGKSB"
      },
      "execution_count": null,
      "outputs": []
    },
    {
      "cell_type": "markdown",
      "source": [
        "##AdaBoost"
      ],
      "metadata": {
        "id": "jFnvTjTHxFLW"
      }
    },
    {
      "cell_type": "code",
      "source": [
        "from sklearn.ensemble import AdaBoostClassifier\n",
        "\n",
        "base_estimator = DecisionTreeClassifier(max_depth=1)\n",
        "\n",
        "# Initialize the AdaBoost classifier\n",
        "ada = AdaBoostClassifier(estimator=base_estimator, n_estimators=50, random_state=42)\n",
        "\n",
        "# Train the model\n",
        "ada.fit(X_train, y_train)"
      ],
      "metadata": {
        "id": "jeiiqwYmwo0Z"
      },
      "execution_count": null,
      "outputs": []
    },
    {
      "cell_type": "code",
      "source": [
        "#Predicting result using testing data\n",
        "y_ada_pred= ada.predict(X_test)\n",
        "y_ada_pred"
      ],
      "metadata": {
        "id": "Hli_GdK3ydw4"
      },
      "execution_count": null,
      "outputs": []
    },
    {
      "cell_type": "code",
      "source": [
        "#Model accuracy\n",
        "ada_cr=classification_report(y_test, y_ada_pred)\n",
        "print(ada_cr)"
      ],
      "metadata": {
        "id": "uCJQfCDsyqje"
      },
      "execution_count": null,
      "outputs": []
    },
    {
      "cell_type": "code",
      "source": [
        "# Confusion Matrix\n",
        "ada_conf_matrix = confusion_matrix(y_test, y_ada_pred)\n",
        "print(\"Confusion Matrix:\\n\", ada_conf_matrix)\n",
        "\n"
      ],
      "metadata": {
        "id": "nfS4DpSlzcqc"
      },
      "execution_count": null,
      "outputs": []
    },
    {
      "cell_type": "code",
      "source": [
        "y_ada_prob = ada.predict_proba(X_test)[:, 1]\n",
        "auc_score = roc_auc_score(y_test, y_ada_prob)\n",
        "print(\"AUC Score:\", auc_score)"
      ],
      "metadata": {
        "id": "aXadVGdV2jgK"
      },
      "execution_count": null,
      "outputs": []
    },
    {
      "cell_type": "code",
      "source": [
        "# Calculating accuracy for the training set\n",
        "train_accuracy = ada.score(X_train, y_train)\n",
        "print(\"Training Set Accuracy:\", train_accuracy)\n",
        "\n",
        "# Calculating accuracy for the test set\n",
        "test_accuracy = accuracy_score(y_test, y_ada_pred)\n",
        "print(\"Test Set Accuracy:\", test_accuracy)"
      ],
      "metadata": {
        "id": "j3UpN3QsGOPs"
      },
      "execution_count": null,
      "outputs": []
    },
    {
      "cell_type": "markdown",
      "source": [
        "#Cross Validation"
      ],
      "metadata": {
        "id": "dUxgWSGvXorQ"
      }
    },
    {
      "cell_type": "code",
      "source": [
        "# K-Fold Cross Validation\n",
        "\n",
        "from sklearn.model_selection import KFold\n",
        "from sklearn.model_selection import cross_val_score\n",
        "\n",
        "k = 10\n",
        "kf = KFold(n_splits=k, shuffle=True, random_state=42)\n",
        "\n",
        "\n",
        "# Logistic regerssion model\n",
        "lr_model_scores = cross_val_score(lr_model,X, y, cv=kf)\n",
        "\n",
        "# Decision tree model\n",
        "dt_model_scores = cross_val_score(dt_model,X, y, cv=kf)\n",
        "\n",
        "# KNN model\n",
        "knn_model_scores = cross_val_score(knn_model,X, y, cv=kf)\n",
        "\n",
        "# Gaussian naive bayes model\n",
        "gnb_model_scores = cross_val_score(gnb_model,X, y, cv=kf)\n",
        "\n",
        "# Multinomial naive bayes model\n",
        "mnb_model_scores = cross_val_score(mnb_model,X, y, cv=kf)\n",
        "\n",
        "# Support Vector Classifier model\n",
        "svc_model_scores = cross_val_score(svc_model,X, y, cv=kf)\n",
        "\n",
        "# Random forest model\n",
        "rf_model_scores = cross_val_score(rf_model,X, y, cv=kf)\n",
        "\n",
        "# XGBoost model\n",
        "xgb_model_scores = cross_val_score(xgb_model,X, y, cv=kf)\n",
        "\n",
        "# Multi-layer perceptron model\n",
        "mlp_model_scores = cross_val_score(mlp_model,X, y, cv=kf)\n",
        "\n",
        "# Gradient boost model\n",
        "gb_model_scores = cross_val_score(gb_model,X, y, cv=kf)\n",
        "\n",
        "#  Adaboost model\n",
        "ada_model_scores = cross_val_score(ada ,X, y, cv=kf)\n",
        "\n",
        "print(\"Logistic regression models' average accuracy:\", np.mean(lr_model_scores))\n",
        "print(\"Decision tree models' average accuracy:\", np.mean(dt_model_scores))\n",
        "print(\"KNN models' average accuracy:\", np.mean(knn_model_scores))\n",
        "print(\"Gaussian naive bayes models' average accuracy:\", np.mean(gnb_model_scores))\n",
        "print(\"Multinomial naive bayes models' average accuracy:\", np.mean(mnb_model_scores))\n",
        "print(\"Support Vector Classifier models' average accuracy:\", np.mean(svc_model_scores))\n",
        "print(\"Random forest models' average accuracy:\", np.mean(rf_model_scores))\n",
        "print(\"XGBoost models' average accuracy:\", np.mean(xgb_model_scores))\n",
        "print(\"Gradient boost models' average accuracy:\", np.mean(gb_model_scores))\n",
        "print(\"Multi-layer perceptron models' average accuracy:\", np.mean(mlp_model_scores))\n",
        "print(\"AdaBoost models' average accuracy:\", np.mean(ada_model_scores))"
      ],
      "metadata": {
        "id": "mnEif_JHXrO_"
      },
      "execution_count": null,
      "outputs": []
    },
    {
      "cell_type": "markdown",
      "source": [
        "##Stratified K Fold\n"
      ],
      "metadata": {
        "id": "EggRRzes0_SW"
      }
    },
    {
      "cell_type": "code",
      "source": [
        "# stratified K-Fold Cross Validation\n",
        "\n",
        "from sklearn.model_selection import StratifiedKFold\n",
        "from sklearn.model_selection import cross_val_score\n",
        "\n",
        "k = 10\n",
        "kf = StratifiedKFold(n_splits=k, shuffle=True, random_state=42)\n",
        "\n",
        "\n",
        "# Logistic regerssion model\n",
        "lr_model_scores = cross_val_score(lr_model,X, y, cv=kf)\n",
        "\n",
        "# Decision tree model\n",
        "dt_model_scores = cross_val_score(dt_model,X, y, cv=kf)\n",
        "\n",
        "# KNN model\n",
        "knn_model_scores = cross_val_score(knn_model,X, y, cv=kf)\n",
        "\n",
        "# Gaussian naive bayes model\n",
        "gnb_model_scores = cross_val_score(gnb_model,X, y, cv=kf)\n",
        "\n",
        "# Multinomial naive bayes model\n",
        "mnb_model_scores = cross_val_score(mnb_model,X, y, cv=kf)\n",
        "\n",
        "# Support Vector Classifier model\n",
        "svc_model_scores = cross_val_score(svc_model,X, y, cv=kf)\n",
        "\n",
        "# Random forest model\n",
        "rf_model_scores = cross_val_score(rf_model,X, y, cv=kf)\n",
        "\n",
        "# XGBoost model\n",
        "xgb_model_scores = cross_val_score(xgb_model,X, y, cv=kf)\n",
        "\n",
        "# Multi-layer perceptron model\n",
        "mlp_model_scores = cross_val_score(mlp_model,X, y, cv=kf)\n",
        "\n",
        "# Gradient boost model\n",
        "gb_model_scores = cross_val_score(gb_model,X, y, cv=kf)\n",
        "\n",
        "#  Adaboost model\n",
        "ada_model_scores = cross_val_score(ada ,X, y, cv=kf)\n",
        "\n",
        "print(\"Logistic regression models' average accuracy:\", np.mean(lr_model_scores))\n",
        "print(\"Decision tree models' average accuracy:\", np.mean(dt_model_scores))\n",
        "print(\"KNN models' average accuracy:\", np.mean(knn_model_scores))\n",
        "print(\"Gaussian naive bayes models' average accuracy:\", np.mean(gnb_model_scores))\n",
        "print(\"Multinomial naive bayes models' average accuracy:\", np.mean(mnb_model_scores))\n",
        "print(\"Support Vector Classifier models' average accuracy:\", np.mean(svc_model_scores))\n",
        "print(\"Random forest models' average accuracy:\", np.mean(rf_model_scores))\n",
        "print(\"XGBoost models' average accuracy:\", np.mean(xgb_model_scores))\n",
        "print(\"Gradient boost models' average accuracy:\", np.mean(gb_model_scores))\n",
        "print(\"Multi-layer perceptron models' average accuracy:\", np.mean(mlp_model_scores))\n",
        "print(\"AdaBoost models' average accuracy:\", np.mean(ada_model_scores))"
      ],
      "metadata": {
        "id": "yqckn2PKgsRE"
      },
      "execution_count": null,
      "outputs": []
    },
    {
      "cell_type": "code",
      "source": [
        "import matplotlib.pyplot as plt\n",
        "\n",
        "# Data for the graph\n",
        "models = ['Multinomial NB','Gaussian NB','Decision Tree','Logistic Regression',\"AdaBoost\",\"Gradient Boosting\",\"MLP\",\"kNN\",\"Random Forest\",\"XGBoost\",\"SVM\"]\n",
        "accuracy_scores = [0.84, 0.90, 0.93,0.94, 0.95, 0.96,0.96, 0.96,0.98,0.98,0.99]\n",
        "\n",
        "# Creating the line plot\n",
        "plt.figure(figsize=(15, 6))\n",
        "plt.plot(models, accuracy_scores, marker='o', linestyle='-', color='skyblue')\n",
        "\n",
        "# Set the limits for the y-axis\n",
        "plt.ylim(0.80, 1.00)\n",
        "\n",
        "# Adding labels and title\n",
        "plt.ylabel('Accuracy Testing Set (%)')\n",
        "plt.title('Comparative Graph of Different Classifiers')\n",
        "\n",
        "# Adding text labels for each point\n",
        "for i, score in enumerate(accuracy_scores):\n",
        "    plt.text(i, score + 0.005, f\"{score:.2f}\", ha='center')\n",
        "\n",
        "# Show the grid and layout\n",
        "plt.grid(True)\n",
        "plt.tight_layout()\n",
        "\n",
        "# Display  plot\n",
        "plt.show()\n"
      ],
      "metadata": {
        "id": "bWNZH7-eG_Bs"
      },
      "execution_count": null,
      "outputs": []
    },
    {
      "cell_type": "code",
      "source": [
        "import matplotlib.pyplot as plt\n",
        "\n",
        "# Data for the graph\n",
        "models = ['Multinomial NB', 'Gaussian NB', 'Logistic Regression', 'AdaBoost', 'Decision Tree', 'SVC', 'Multi-layer Perceptron', 'XGBoost', 'KNN', 'Random Forest', 'Gradient Boost']\n",
        "accuracy_scores = [0.7887, 0.8786, 0.9246, 0.9246, 0.9329, 0.9371, 0.9371, 0.9455, 0.9475, 0.9497, 0.9539]\n",
        "\n",
        "\n",
        "# Creating the line plot\n",
        "plt.figure(figsize=(15, 6))\n",
        "plt.plot(models, accuracy_scores, marker='o', linestyle='-', color='skyblue')\n",
        "\n",
        "# Set the limits for the y-axis\n",
        "plt.ylim(0.80, 1.00)\n",
        "\n",
        "# Adding labels and title\n",
        "plt.ylabel('Accuracy Testing Set (%)')\n",
        "plt.title('Comparative Graph of Different Classifiers')\n",
        "\n",
        "# Adding text labels for each point\n",
        "for i, score in enumerate(accuracy_scores):\n",
        "    plt.text(i, score + 0.005, f\"{score:.2f}\", ha='center')\n",
        "\n",
        "# Show the grid and layout\n",
        "plt.grid(True)\n",
        "plt.tight_layout()\n",
        "\n",
        "# Display  plot\n",
        "plt.show()"
      ],
      "metadata": {
        "id": "TLF3sU6mLHpy"
      },
      "execution_count": null,
      "outputs": []
    },
    {
      "cell_type": "code",
      "source": [
        "import pandas as pd\n",
        "\n",
        "# Assuming 'df' is your updated DataFrame\n",
        "df.to_csv('updated_dataset.csv', index=False)"
      ],
      "metadata": {
        "id": "k2djquAQzqLm"
      },
      "execution_count": null,
      "outputs": []
    }
  ]
}